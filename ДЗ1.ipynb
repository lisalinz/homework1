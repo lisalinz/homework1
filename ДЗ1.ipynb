{
  "nbformat": 4,
  "nbformat_minor": 0,
  "metadata": {
    "kernelspec": {
      "display_name": "Python 3",
      "language": "python",
      "name": "python3"
    },
    "language_info": {
      "codemirror_mode": {
        "name": "ipython",
        "version": 3
      },
      "file_extension": ".py",
      "mimetype": "text/x-python",
      "name": "python",
      "nbconvert_exporter": "python",
      "pygments_lexer": "ipython3",
      "version": "3.8.2"
    },
    "colab": {
      "name": "ДЗ-1.ipynb",
      "provenance": [],
      "collapsed_sections": []
    }
  },
  "cells": [
    {
      "cell_type": "markdown",
      "metadata": {
        "id": "CwSDVhyG1IcU"
      },
      "source": [
        "## Задание 1: (условия if-elif-else)\n",
        "\n",
        "В ячейке ниже - код \"определителя усталости\". Давайте его улучшим:\n",
        "\n",
        "- добавьте условие для случаев,если пользователь вводит число больше 10\n",
        "\n",
        "- добавьте еще одно или два условия, чтобы разделение на категории усталости было еще точнее\n",
        "\n",
        "Подсказка: может помочь нарисовать себе схему условий на бумаге\n"
      ]
    },
    {
      "cell_type": "code",
      "metadata": {
        "colab": {
          "base_uri": "https://localhost:8080/"
        },
        "id": "04OM7E9f1Icg",
        "outputId": "fd5eba54-47e1-4557-da44-2ef95fdadfa9"
      },
      "source": [
        "# определитель усталости\n",
        "\n",
        "a = float(input('по шкале от 0 до 10, напишите, насколько Вы устали: '))\n",
        "if a < 0.7:\n",
        "    print('Кажется, Вы совсем не устали')\n",
        "elif 0.7 <= a <= 4.8:\n",
        "    print('Вы немного устали')\n",
        "\n",
        "# Ваш код дальше:\n",
        "if a > 10:\n",
        "   print('Ретроградный Меркурий не щадит никого :(')\n",
        "elif 5 <= a <= 10:\n",
        "    print('Может быть чашка любимого кофе или чая поможет взбодриться!')"
      ],
      "execution_count": null,
      "outputs": [
        {
          "output_type": "stream",
          "name": "stdout",
          "text": [
            "по шкале от 0 до 10, напишите, насколько Вы устали: 1111111111111111111\n",
            "Ретроградный Меркурий не щадит никого :(\n"
          ]
        }
      ]
    },
    {
      "cell_type": "markdown",
      "metadata": {
        "id": "Xecc786y1Icp"
      },
      "source": [
        "### Задача 2 (списки и циклы)\n",
        "Робот, выбирающий пользователю коктейль:\n",
        "\n",
        "Представьте, что Вы разрабатываете (фрагмент) электронного помощника для ресторана. \n",
        "\n",
        "У Вас есть список коктейлей, где каждый коктейль представлен в виде списка ингридиентов (у нас получается список списков). Программа рандомным образом должна выбрать один из коктейлей (т.е. один из списков в общем списке) и вывести на экран сообщение: \"Сегодня в вашем коктейле будет: \" и сам список ингридиентов\n",
        "\n",
        "Но есть одно условие: в некоторые из списков по ошибке попал \"лосось\". Строку \"лосось\" нужно убрать *(здесь вам поможет один метод работы со списками)* ,но так как лосось есть не везде, нужно предварительно проверить его наличие в списке."
      ]
    },
    {
      "cell_type": "code",
      "metadata": {
        "colab": {
          "base_uri": "https://localhost:8080/"
        },
        "id": "KShWmrnH1Icq",
        "outputId": "180e1bd5-dd31-4955-ac12-812badf5638a"
      },
      "source": [
        "import random\n",
        "\n",
        "cocktails = [\n",
        "    [\"мартини\",\"грейпфрутовый сок\",\"жасмин\",\"тоник\",\"лосось\"],\n",
        "    [\"клубника\",\"какао\",\"мята\",\"марсала\"],\n",
        "    [\"водка\",\"томатный сок\",\"лимонный сок\",\"вустерширский соус\",\"черный перец\",\"сельдерей\",\"лосось\"],\n",
        "    [\"джин\",\"вермут\",\"ликер мараскино\",\"апельсины\",\"коктейльная вишня\",\"лосось\"],\n",
        "    [\"ром\",\"авокадо\",\"сахарный сироп\",\"сливки\",\"лимонный сок\",\"лед\"],\n",
        "    [\"красный вермут\",\"тоник\",\"апельсины\",\"лосось\"],\n",
        "    [\"только чай\"]\n",
        "        ]\n",
        "\n",
        "#Ваш код\n",
        "print(cocktails)\n",
        "print(type(cocktails))\n",
        "cocktails = zip(*cocktails)\n",
        "print(cocktails)\n",
        "# не могу разобраться с заданием. Как я поняла, этот пакет нужно раззиповать на отдельные списки, но никак не могу сообразить порядок действий"
      ],
      "execution_count": null,
      "outputs": [
        {
          "output_type": "stream",
          "name": "stdout",
          "text": [
            "[['мартини', 'грейпфрутовый сок', 'жасмин', 'тоник', 'лосось'], ['клубника', 'какао', 'мята', 'марсала'], ['водка', 'томатный сок', 'лимонный сок', 'вустерширский соус', 'черный перец', 'сельдерей', 'лосось'], ['джин', 'вермут', 'ликер мараскино', 'апельсины', 'коктейльная вишня', 'лосось'], ['ром', 'авокадо', 'сахарный сироп', 'сливки', 'лимонный сок', 'лед'], ['красный вермут', 'тоник', 'апельсины', 'лосось'], ['только чай']]\n",
            "<class 'list'>\n",
            "<zip object at 0x7f4e38d17370>\n"
          ]
        }
      ]
    },
    {
      "cell_type": "markdown",
      "metadata": {
        "id": "aq5XnAk-1Ics"
      },
      "source": [
        "### Задание 3 (словари)"
      ]
    },
    {
      "cell_type": "markdown",
      "metadata": {
        "id": "xOzqjEFU1Ics"
      },
      "source": [
        "Алиса коллекционирует открыткм, которые она получила из разных стран от друзей. Она знает, что Мария прислала ей открытку из Лондона, Лоренцо -- из Милана, Олег - из Канберры, Ханс -- из Кальгари, Марк -- тоже из Милана, Алекс - из Кракова, и совсем недавно пришла открытка от Юлии из Мурманска. \n",
        "\n",
        "Сейчас ее архив выглядит вот так:\n",
        "```\n",
        "postcards = {\n",
        "    \"Maria\":\"London\",\n",
        "    \"Lorenzo\":\"Milan\",\n",
        "    \"Oleg\":\"Canberra\",\n",
        "    \"Hans\":\"Calgary\",\n",
        "    \"Mark\":\"Milan\",\n",
        "    \"Alex\":\"Krakow\",\n",
        "    \"Julia\":\"Murmansk\"\n",
        "    \n",
        "}\n",
        "```\n",
        "\n",
        "Однажды Алиса показала Вам свою бумажную коллекцию, и Вы заметили неточности: \n",
        "\n",
        "- в архиве не хватает двух открыток: от Петры из Парижа и от Ивана из Москвы. Добавьте их в архив Алисы.\n",
        "\n",
        "- открытка, присланная Олегом на самом деле не из Канберры, а из Сиднея.\n",
        "Исправьте город на верный, изменив значение по ключу в словаре.\n",
        "\n",
        "- Алиса говорит, что в ее коллекции более 10 уникальных городов. Сколько их на самом деле? Выведите названия этих городов."
      ]
    },
    {
      "cell_type": "code",
      "metadata": {
        "colab": {
          "base_uri": "https://localhost:8080/"
        },
        "id": "FwTFOrxr1Ict",
        "outputId": "cf32a8e2-c77d-4731-d28d-b3ab5ef46445"
      },
      "source": [
        "p = {\"Maria\":\"London\", \"Lorenzo\":\"Milan\", \"Oleg\":\"Canberra\", \"Hans\":\"Calgary\", \"Mark\":\"Milan\", \"Alex\":\"Krakow\", \"Julia\":\"Murmansk\"}\n",
        "new_dict = {'Petra':'Paris','Ivan':'Moscow'}\n",
        "p.update(new_dict)\n",
        "p"
      ],
      "execution_count": null,
      "outputs": [
        {
          "output_type": "execute_result",
          "data": {
            "text/plain": [
              "{'Alex': 'Krakow',\n",
              " 'Hans': 'Calgary',\n",
              " 'Ivan': 'Moscow',\n",
              " 'Julia': 'Murmansk',\n",
              " 'Lorenzo': 'Milan',\n",
              " 'Maria': 'London',\n",
              " 'Mark': 'Milan',\n",
              " 'Oleg': 'Canberra',\n",
              " 'Petra': 'Paris'}"
            ]
          },
          "metadata": {},
          "execution_count": 132
        }
      ]
    },
    {
      "cell_type": "code",
      "metadata": {
        "colab": {
          "base_uri": "https://localhost:8080/"
        },
        "id": "ikoTnlPK1Icv",
        "outputId": "f727177b-5fb8-40ab-943b-a63736216be6"
      },
      "source": [
        "p.get('Oleg')\n",
        "p['Oleg'] = 'Sidney'\n",
        "p"
      ],
      "execution_count": null,
      "outputs": [
        {
          "output_type": "execute_result",
          "data": {
            "text/plain": [
              "{'Alex': 'Krakow',\n",
              " 'Hans': 'Calgary',\n",
              " 'Ivan': 'Moscow',\n",
              " 'Julia': 'Murmansk',\n",
              " 'Lorenzo': 'Milan',\n",
              " 'Maria': 'London',\n",
              " 'Mark': 'Milan',\n",
              " 'Oleg': 'Sidney',\n",
              " 'Petra': 'Paris'}"
            ]
          },
          "metadata": {},
          "execution_count": 133
        }
      ]
    },
    {
      "cell_type": "code",
      "metadata": {
        "colab": {
          "base_uri": "https://localhost:8080/"
        },
        "id": "iTL0T0EK1Icw",
        "outputId": "faf74d14-e08d-48c7-b9ce-f0dc5415531e"
      },
      "source": [
        "p\n",
        "p.values()\n",
        "v = p.values()\n",
        "v = list(v)\n",
        "v.remove('Milan')\n",
        "v"
      ],
      "execution_count": null,
      "outputs": [
        {
          "output_type": "execute_result",
          "data": {
            "text/plain": [
              "['London',\n",
              " 'Sidney',\n",
              " 'Calgary',\n",
              " 'Milan',\n",
              " 'Krakow',\n",
              " 'Murmansk',\n",
              " 'Paris',\n",
              " 'Moscow']"
            ]
          },
          "metadata": {},
          "execution_count": 168
        }
      ]
    }
  ]
}